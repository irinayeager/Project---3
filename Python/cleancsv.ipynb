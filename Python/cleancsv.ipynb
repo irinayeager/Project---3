{
 "cells": [
  {
   "cell_type": "code",
   "execution_count": 68,
   "id": "optimum-stake",
   "metadata": {},
   "outputs": [],
   "source": [
    "import pandas as pd\n",
    "from colors import rgb, hex\n",
    "import numpy as np"
   ]
  },
  {
   "cell_type": "code",
   "execution_count": 46,
   "id": "permanent-bracket",
   "metadata": {},
   "outputs": [
    {
     "data": {
      "text/html": [
       "<div>\n",
       "<style scoped>\n",
       "    .dataframe tbody tr th:only-of-type {\n",
       "        vertical-align: middle;\n",
       "    }\n",
       "\n",
       "    .dataframe tbody tr th {\n",
       "        vertical-align: top;\n",
       "    }\n",
       "\n",
       "    .dataframe thead th {\n",
       "        text-align: right;\n",
       "    }\n",
       "</style>\n",
       "<table border=\"1\" class=\"dataframe\">\n",
       "  <thead>\n",
       "    <tr style=\"text-align: right;\">\n",
       "      <th></th>\n",
       "      <th>brand</th>\n",
       "      <th>brand_short</th>\n",
       "      <th>product</th>\n",
       "      <th>product_short</th>\n",
       "      <th>hex</th>\n",
       "      <th>H</th>\n",
       "      <th>S</th>\n",
       "      <th>V</th>\n",
       "      <th>L</th>\n",
       "      <th>group</th>\n",
       "    </tr>\n",
       "  </thead>\n",
       "  <tbody>\n",
       "    <tr>\n",
       "      <th>0</th>\n",
       "      <td>Maybelline</td>\n",
       "      <td>mb</td>\n",
       "      <td>Fit Me</td>\n",
       "      <td>fmf</td>\n",
       "      <td>f3cfb3</td>\n",
       "      <td>26.0</td>\n",
       "      <td>0.26</td>\n",
       "      <td>0.95</td>\n",
       "      <td>86</td>\n",
       "      <td>2</td>\n",
       "    </tr>\n",
       "    <tr>\n",
       "      <th>1</th>\n",
       "      <td>Maybelline</td>\n",
       "      <td>mb</td>\n",
       "      <td>Fit Me</td>\n",
       "      <td>fmf</td>\n",
       "      <td>ffe3c2</td>\n",
       "      <td>32.0</td>\n",
       "      <td>0.24</td>\n",
       "      <td>1.00</td>\n",
       "      <td>92</td>\n",
       "      <td>2</td>\n",
       "    </tr>\n",
       "    <tr>\n",
       "      <th>2</th>\n",
       "      <td>Maybelline</td>\n",
       "      <td>mb</td>\n",
       "      <td>Fit Me</td>\n",
       "      <td>fmf</td>\n",
       "      <td>ffe0cd</td>\n",
       "      <td>23.0</td>\n",
       "      <td>0.20</td>\n",
       "      <td>1.00</td>\n",
       "      <td>91</td>\n",
       "      <td>2</td>\n",
       "    </tr>\n",
       "    <tr>\n",
       "      <th>3</th>\n",
       "      <td>Maybelline</td>\n",
       "      <td>mb</td>\n",
       "      <td>Fit Me</td>\n",
       "      <td>fmf</td>\n",
       "      <td>ffd3be</td>\n",
       "      <td>19.0</td>\n",
       "      <td>0.25</td>\n",
       "      <td>1.00</td>\n",
       "      <td>88</td>\n",
       "      <td>2</td>\n",
       "    </tr>\n",
       "    <tr>\n",
       "      <th>4</th>\n",
       "      <td>Maybelline</td>\n",
       "      <td>mb</td>\n",
       "      <td>Fit Me</td>\n",
       "      <td>fmf</td>\n",
       "      <td>bd9584</td>\n",
       "      <td>18.0</td>\n",
       "      <td>0.30</td>\n",
       "      <td>0.74</td>\n",
       "      <td>65</td>\n",
       "      <td>2</td>\n",
       "    </tr>\n",
       "  </tbody>\n",
       "</table>\n",
       "</div>"
      ],
      "text/plain": [
       "        brand brand_short product product_short     hex     H     S     V   L  \\\n",
       "0  Maybelline          mb  Fit Me           fmf  f3cfb3  26.0  0.26  0.95  86   \n",
       "1  Maybelline          mb  Fit Me           fmf  ffe3c2  32.0  0.24  1.00  92   \n",
       "2  Maybelline          mb  Fit Me           fmf  ffe0cd  23.0  0.20  1.00  91   \n",
       "3  Maybelline          mb  Fit Me           fmf  ffd3be  19.0  0.25  1.00  88   \n",
       "4  Maybelline          mb  Fit Me           fmf  bd9584  18.0  0.30  0.74  65   \n",
       "\n",
       "   group  \n",
       "0      2  \n",
       "1      2  \n",
       "2      2  \n",
       "3      2  \n",
       "4      2  "
      ]
     },
     "execution_count": 46,
     "metadata": {},
     "output_type": "execute_result"
    }
   ],
   "source": [
    "df = pd.read_csv(\"../Data/shades.csv\")\n",
    "df.head()"
   ]
  },
  {
   "cell_type": "code",
   "execution_count": 50,
   "id": "computational-graham",
   "metadata": {},
   "outputs": [
    {
     "data": {
      "text/plain": [
       "(255, 224, 205)"
      ]
     },
     "execution_count": 50,
     "metadata": {},
     "output_type": "execute_result"
    }
   ],
   "source": [
    "tuple(hex(df['hex'][2]).rgb)"
   ]
  },
  {
   "cell_type": "code",
   "execution_count": 48,
   "id": "varied-investigation",
   "metadata": {},
   "outputs": [
    {
     "data": {
      "text/plain": [
       "0      f3cfb3\n",
       "1      ffe3c2\n",
       "2      ffe0cd\n",
       "3      ffd3be\n",
       "4      bd9584\n",
       "        ...  \n",
       "620    eecfba\n",
       "621    e8c7b8\n",
       "622    f0cbb9\n",
       "623    e9c4b1\n",
       "624    eabea1\n",
       "Name: hex, Length: 625, dtype: object"
      ]
     },
     "execution_count": 48,
     "metadata": {},
     "output_type": "execute_result"
    }
   ],
   "source": [
    "df['hex']"
   ]
  },
  {
   "cell_type": "code",
   "execution_count": 49,
   "id": "charming-liability",
   "metadata": {},
   "outputs": [
    {
     "name": "stdout",
     "output_type": "stream",
     "text": [
      "f3cfb3\n"
     ]
    }
   ],
   "source": [
    "print(df.loc[0,'hex'])"
   ]
  },
  {
   "cell_type": "code",
   "execution_count": 51,
   "id": "varying-physics",
   "metadata": {},
   "outputs": [],
   "source": [
    "df['hex'] = df['hex'].apply(lambda x: tuple(hex(x).rgb))"
   ]
  },
  {
   "cell_type": "code",
   "execution_count": 56,
   "id": "corresponding-lucas",
   "metadata": {},
   "outputs": [
    {
     "data": {
      "text/plain": [
       "243"
      ]
     },
     "execution_count": 56,
     "metadata": {},
     "output_type": "execute_result"
    }
   ],
   "source": [
    "df['hex'][0][0]"
   ]
  },
  {
   "cell_type": "code",
   "execution_count": 57,
   "id": "unique-shannon",
   "metadata": {},
   "outputs": [
    {
     "data": {
      "text/plain": [
       "207"
      ]
     },
     "execution_count": 57,
     "metadata": {},
     "output_type": "execute_result"
    }
   ],
   "source": [
    "df['hex'][0][1]"
   ]
  },
  {
   "cell_type": "code",
   "execution_count": 58,
   "id": "suffering-guitar",
   "metadata": {},
   "outputs": [
    {
     "data": {
      "text/plain": [
       "179"
      ]
     },
     "execution_count": 58,
     "metadata": {},
     "output_type": "execute_result"
    }
   ],
   "source": [
    "df['hex'][0][2]"
   ]
  },
  {
   "cell_type": "code",
   "execution_count": 59,
   "id": "unexpected-territory",
   "metadata": {},
   "outputs": [],
   "source": [
    "red = []\n",
    "green = []\n",
    "blue = []\n",
    "\n",
    "for i in df['hex']:\n",
    "    red.append(i[0])\n",
    "    green.append(i[1])\n",
    "    blue.append(i[2])"
   ]
  },
  {
   "cell_type": "code",
   "execution_count": 60,
   "id": "understanding-novelty",
   "metadata": {},
   "outputs": [],
   "source": [
    "df['red'] = red\n",
    "df['green'] = green\n",
    "df['blue'] = blue"
   ]
  },
  {
   "cell_type": "code",
   "execution_count": 61,
   "id": "alike-reach",
   "metadata": {},
   "outputs": [
    {
     "data": {
      "text/html": [
       "<div>\n",
       "<style scoped>\n",
       "    .dataframe tbody tr th:only-of-type {\n",
       "        vertical-align: middle;\n",
       "    }\n",
       "\n",
       "    .dataframe tbody tr th {\n",
       "        vertical-align: top;\n",
       "    }\n",
       "\n",
       "    .dataframe thead th {\n",
       "        text-align: right;\n",
       "    }\n",
       "</style>\n",
       "<table border=\"1\" class=\"dataframe\">\n",
       "  <thead>\n",
       "    <tr style=\"text-align: right;\">\n",
       "      <th></th>\n",
       "      <th>brand</th>\n",
       "      <th>brand_short</th>\n",
       "      <th>product</th>\n",
       "      <th>product_short</th>\n",
       "      <th>hex</th>\n",
       "      <th>H</th>\n",
       "      <th>S</th>\n",
       "      <th>V</th>\n",
       "      <th>L</th>\n",
       "      <th>group</th>\n",
       "      <th>red</th>\n",
       "      <th>green</th>\n",
       "      <th>blue</th>\n",
       "    </tr>\n",
       "  </thead>\n",
       "  <tbody>\n",
       "    <tr>\n",
       "      <th>0</th>\n",
       "      <td>Maybelline</td>\n",
       "      <td>mb</td>\n",
       "      <td>Fit Me</td>\n",
       "      <td>fmf</td>\n",
       "      <td>(243, 207, 179)</td>\n",
       "      <td>26.0</td>\n",
       "      <td>0.26</td>\n",
       "      <td>0.95</td>\n",
       "      <td>86</td>\n",
       "      <td>2</td>\n",
       "      <td>243</td>\n",
       "      <td>207</td>\n",
       "      <td>179</td>\n",
       "    </tr>\n",
       "    <tr>\n",
       "      <th>1</th>\n",
       "      <td>Maybelline</td>\n",
       "      <td>mb</td>\n",
       "      <td>Fit Me</td>\n",
       "      <td>fmf</td>\n",
       "      <td>(255, 227, 194)</td>\n",
       "      <td>32.0</td>\n",
       "      <td>0.24</td>\n",
       "      <td>1.00</td>\n",
       "      <td>92</td>\n",
       "      <td>2</td>\n",
       "      <td>255</td>\n",
       "      <td>227</td>\n",
       "      <td>194</td>\n",
       "    </tr>\n",
       "    <tr>\n",
       "      <th>2</th>\n",
       "      <td>Maybelline</td>\n",
       "      <td>mb</td>\n",
       "      <td>Fit Me</td>\n",
       "      <td>fmf</td>\n",
       "      <td>(255, 224, 205)</td>\n",
       "      <td>23.0</td>\n",
       "      <td>0.20</td>\n",
       "      <td>1.00</td>\n",
       "      <td>91</td>\n",
       "      <td>2</td>\n",
       "      <td>255</td>\n",
       "      <td>224</td>\n",
       "      <td>205</td>\n",
       "    </tr>\n",
       "    <tr>\n",
       "      <th>3</th>\n",
       "      <td>Maybelline</td>\n",
       "      <td>mb</td>\n",
       "      <td>Fit Me</td>\n",
       "      <td>fmf</td>\n",
       "      <td>(255, 211, 190)</td>\n",
       "      <td>19.0</td>\n",
       "      <td>0.25</td>\n",
       "      <td>1.00</td>\n",
       "      <td>88</td>\n",
       "      <td>2</td>\n",
       "      <td>255</td>\n",
       "      <td>211</td>\n",
       "      <td>190</td>\n",
       "    </tr>\n",
       "    <tr>\n",
       "      <th>4</th>\n",
       "      <td>Maybelline</td>\n",
       "      <td>mb</td>\n",
       "      <td>Fit Me</td>\n",
       "      <td>fmf</td>\n",
       "      <td>(189, 149, 132)</td>\n",
       "      <td>18.0</td>\n",
       "      <td>0.30</td>\n",
       "      <td>0.74</td>\n",
       "      <td>65</td>\n",
       "      <td>2</td>\n",
       "      <td>189</td>\n",
       "      <td>149</td>\n",
       "      <td>132</td>\n",
       "    </tr>\n",
       "    <tr>\n",
       "      <th>...</th>\n",
       "      <td>...</td>\n",
       "      <td>...</td>\n",
       "      <td>...</td>\n",
       "      <td>...</td>\n",
       "      <td>...</td>\n",
       "      <td>...</td>\n",
       "      <td>...</td>\n",
       "      <td>...</td>\n",
       "      <td>...</td>\n",
       "      <td>...</td>\n",
       "      <td>...</td>\n",
       "      <td>...</td>\n",
       "      <td>...</td>\n",
       "    </tr>\n",
       "    <tr>\n",
       "      <th>620</th>\n",
       "      <td>L'Oréal</td>\n",
       "      <td>lo</td>\n",
       "      <td>True Match</td>\n",
       "      <td>tms</td>\n",
       "      <td>(238, 207, 186)</td>\n",
       "      <td>24.0</td>\n",
       "      <td>0.22</td>\n",
       "      <td>0.93</td>\n",
       "      <td>85</td>\n",
       "      <td>7</td>\n",
       "      <td>238</td>\n",
       "      <td>207</td>\n",
       "      <td>186</td>\n",
       "    </tr>\n",
       "    <tr>\n",
       "      <th>621</th>\n",
       "      <td>L'Oréal</td>\n",
       "      <td>lo</td>\n",
       "      <td>True Match</td>\n",
       "      <td>tms</td>\n",
       "      <td>(232, 199, 184)</td>\n",
       "      <td>19.0</td>\n",
       "      <td>0.21</td>\n",
       "      <td>0.91</td>\n",
       "      <td>83</td>\n",
       "      <td>7</td>\n",
       "      <td>232</td>\n",
       "      <td>199</td>\n",
       "      <td>184</td>\n",
       "    </tr>\n",
       "    <tr>\n",
       "      <th>622</th>\n",
       "      <td>L'Oréal</td>\n",
       "      <td>lo</td>\n",
       "      <td>True Match</td>\n",
       "      <td>tms</td>\n",
       "      <td>(240, 203, 185)</td>\n",
       "      <td>20.0</td>\n",
       "      <td>0.23</td>\n",
       "      <td>0.94</td>\n",
       "      <td>85</td>\n",
       "      <td>7</td>\n",
       "      <td>240</td>\n",
       "      <td>203</td>\n",
       "      <td>185</td>\n",
       "    </tr>\n",
       "    <tr>\n",
       "      <th>623</th>\n",
       "      <td>L'Oréal</td>\n",
       "      <td>lo</td>\n",
       "      <td>True Match</td>\n",
       "      <td>tms</td>\n",
       "      <td>(233, 196, 177)</td>\n",
       "      <td>20.0</td>\n",
       "      <td>0.24</td>\n",
       "      <td>0.91</td>\n",
       "      <td>82</td>\n",
       "      <td>7</td>\n",
       "      <td>233</td>\n",
       "      <td>196</td>\n",
       "      <td>177</td>\n",
       "    </tr>\n",
       "    <tr>\n",
       "      <th>624</th>\n",
       "      <td>L'Oréal</td>\n",
       "      <td>lo</td>\n",
       "      <td>True Match</td>\n",
       "      <td>tms</td>\n",
       "      <td>(234, 190, 161)</td>\n",
       "      <td>24.0</td>\n",
       "      <td>0.31</td>\n",
       "      <td>0.92</td>\n",
       "      <td>80</td>\n",
       "      <td>7</td>\n",
       "      <td>234</td>\n",
       "      <td>190</td>\n",
       "      <td>161</td>\n",
       "    </tr>\n",
       "  </tbody>\n",
       "</table>\n",
       "<p>625 rows × 13 columns</p>\n",
       "</div>"
      ],
      "text/plain": [
       "          brand brand_short     product product_short              hex     H  \\\n",
       "0    Maybelline          mb      Fit Me           fmf  (243, 207, 179)  26.0   \n",
       "1    Maybelline          mb      Fit Me           fmf  (255, 227, 194)  32.0   \n",
       "2    Maybelline          mb      Fit Me           fmf  (255, 224, 205)  23.0   \n",
       "3    Maybelline          mb      Fit Me           fmf  (255, 211, 190)  19.0   \n",
       "4    Maybelline          mb      Fit Me           fmf  (189, 149, 132)  18.0   \n",
       "..          ...         ...         ...           ...              ...   ...   \n",
       "620     L'Oréal          lo  True Match           tms  (238, 207, 186)  24.0   \n",
       "621     L'Oréal          lo  True Match           tms  (232, 199, 184)  19.0   \n",
       "622     L'Oréal          lo  True Match           tms  (240, 203, 185)  20.0   \n",
       "623     L'Oréal          lo  True Match           tms  (233, 196, 177)  20.0   \n",
       "624     L'Oréal          lo  True Match           tms  (234, 190, 161)  24.0   \n",
       "\n",
       "        S     V   L  group  red  green  blue  \n",
       "0    0.26  0.95  86      2  243    207   179  \n",
       "1    0.24  1.00  92      2  255    227   194  \n",
       "2    0.20  1.00  91      2  255    224   205  \n",
       "3    0.25  1.00  88      2  255    211   190  \n",
       "4    0.30  0.74  65      2  189    149   132  \n",
       "..    ...   ...  ..    ...  ...    ...   ...  \n",
       "620  0.22  0.93  85      7  238    207   186  \n",
       "621  0.21  0.91  83      7  232    199   184  \n",
       "622  0.23  0.94  85      7  240    203   185  \n",
       "623  0.24  0.91  82      7  233    196   177  \n",
       "624  0.31  0.92  80      7  234    190   161  \n",
       "\n",
       "[625 rows x 13 columns]"
      ]
     },
     "execution_count": 61,
     "metadata": {},
     "output_type": "execute_result"
    }
   ],
   "source": [
    "df"
   ]
  },
  {
   "cell_type": "code",
   "execution_count": 63,
   "id": "bright-milan",
   "metadata": {},
   "outputs": [],
   "source": [
    "example = (222.24678456591653 + 193.00401929260468 + 181.0803858520894)"
   ]
  },
  {
   "cell_type": "code",
   "execution_count": 64,
   "id": "formed-blanket",
   "metadata": {},
   "outputs": [],
   "source": [
    "df['test'] = example"
   ]
  },
  {
   "cell_type": "code",
   "execution_count": 66,
   "id": "competent-projection",
   "metadata": {},
   "outputs": [],
   "source": [
    "df['rgbsum'] = df['red'] + df['green'] + df['blue']"
   ]
  },
  {
   "cell_type": "code",
   "execution_count": 70,
   "id": "fifth-rider",
   "metadata": {},
   "outputs": [],
   "source": [
    "df['difference'] = np.abs(df['rgbsum'] - df['test'])"
   ]
  },
  {
   "cell_type": "code",
   "execution_count": 77,
   "id": "anonymous-tackle",
   "metadata": {},
   "outputs": [
    {
     "data": {
      "text/plain": [
       "146.18730803858654"
      ]
     },
     "execution_count": 77,
     "metadata": {},
     "output_type": "execute_result"
    }
   ],
   "source": [
    "df['difference'].mean()"
   ]
  },
  {
   "cell_type": "code",
   "execution_count": 72,
   "id": "viral-being",
   "metadata": {},
   "outputs": [
    {
     "data": {
      "text/plain": [
       "573"
      ]
     },
     "execution_count": 72,
     "metadata": {},
     "output_type": "execute_result"
    }
   ],
   "source": [
    "df['difference'].argmin()"
   ]
  },
  {
   "cell_type": "code",
   "execution_count": 73,
   "id": "mediterranean-support",
   "metadata": {},
   "outputs": [
    {
     "data": {
      "text/plain": [
       "brand                   Colorbar\n",
       "brand_short                   cb\n",
       "product            Perfect Match\n",
       "product_short                 pm\n",
       "hex              (236, 195, 165)\n",
       "H                           25.0\n",
       "S                            0.3\n",
       "V                           0.93\n",
       "L                             82\n",
       "group                          7\n",
       "red                          236\n",
       "green                        195\n",
       "blue                         165\n",
       "test                   596.33119\n",
       "rgbsum                       596\n",
       "difference               0.33119\n",
       "Name: 573, dtype: object"
      ]
     },
     "execution_count": 73,
     "metadata": {},
     "output_type": "execute_result"
    }
   ],
   "source": [
    "df.loc[573]"
   ]
  },
  {
   "cell_type": "code",
   "execution_count": 82,
   "id": "commercial-laptop",
   "metadata": {},
   "outputs": [],
   "source": [
    "df = df.drop(columns=['test', 'rgbsum', 'difference'])\n"
   ]
  },
  {
   "cell_type": "code",
   "execution_count": 83,
   "id": "utility-nickname",
   "metadata": {},
   "outputs": [
    {
     "data": {
      "text/html": [
       "<div>\n",
       "<style scoped>\n",
       "    .dataframe tbody tr th:only-of-type {\n",
       "        vertical-align: middle;\n",
       "    }\n",
       "\n",
       "    .dataframe tbody tr th {\n",
       "        vertical-align: top;\n",
       "    }\n",
       "\n",
       "    .dataframe thead th {\n",
       "        text-align: right;\n",
       "    }\n",
       "</style>\n",
       "<table border=\"1\" class=\"dataframe\">\n",
       "  <thead>\n",
       "    <tr style=\"text-align: right;\">\n",
       "      <th></th>\n",
       "      <th>brand</th>\n",
       "      <th>brand_short</th>\n",
       "      <th>product</th>\n",
       "      <th>product_short</th>\n",
       "      <th>hex</th>\n",
       "      <th>H</th>\n",
       "      <th>S</th>\n",
       "      <th>V</th>\n",
       "      <th>L</th>\n",
       "      <th>group</th>\n",
       "      <th>red</th>\n",
       "      <th>green</th>\n",
       "      <th>blue</th>\n",
       "    </tr>\n",
       "  </thead>\n",
       "  <tbody>\n",
       "    <tr>\n",
       "      <th>0</th>\n",
       "      <td>Maybelline</td>\n",
       "      <td>mb</td>\n",
       "      <td>Fit Me</td>\n",
       "      <td>fmf</td>\n",
       "      <td>(243, 207, 179)</td>\n",
       "      <td>26.0</td>\n",
       "      <td>0.26</td>\n",
       "      <td>0.95</td>\n",
       "      <td>86</td>\n",
       "      <td>2</td>\n",
       "      <td>243</td>\n",
       "      <td>207</td>\n",
       "      <td>179</td>\n",
       "    </tr>\n",
       "    <tr>\n",
       "      <th>1</th>\n",
       "      <td>Maybelline</td>\n",
       "      <td>mb</td>\n",
       "      <td>Fit Me</td>\n",
       "      <td>fmf</td>\n",
       "      <td>(255, 227, 194)</td>\n",
       "      <td>32.0</td>\n",
       "      <td>0.24</td>\n",
       "      <td>1.00</td>\n",
       "      <td>92</td>\n",
       "      <td>2</td>\n",
       "      <td>255</td>\n",
       "      <td>227</td>\n",
       "      <td>194</td>\n",
       "    </tr>\n",
       "    <tr>\n",
       "      <th>2</th>\n",
       "      <td>Maybelline</td>\n",
       "      <td>mb</td>\n",
       "      <td>Fit Me</td>\n",
       "      <td>fmf</td>\n",
       "      <td>(255, 224, 205)</td>\n",
       "      <td>23.0</td>\n",
       "      <td>0.20</td>\n",
       "      <td>1.00</td>\n",
       "      <td>91</td>\n",
       "      <td>2</td>\n",
       "      <td>255</td>\n",
       "      <td>224</td>\n",
       "      <td>205</td>\n",
       "    </tr>\n",
       "    <tr>\n",
       "      <th>3</th>\n",
       "      <td>Maybelline</td>\n",
       "      <td>mb</td>\n",
       "      <td>Fit Me</td>\n",
       "      <td>fmf</td>\n",
       "      <td>(255, 211, 190)</td>\n",
       "      <td>19.0</td>\n",
       "      <td>0.25</td>\n",
       "      <td>1.00</td>\n",
       "      <td>88</td>\n",
       "      <td>2</td>\n",
       "      <td>255</td>\n",
       "      <td>211</td>\n",
       "      <td>190</td>\n",
       "    </tr>\n",
       "    <tr>\n",
       "      <th>4</th>\n",
       "      <td>Maybelline</td>\n",
       "      <td>mb</td>\n",
       "      <td>Fit Me</td>\n",
       "      <td>fmf</td>\n",
       "      <td>(189, 149, 132)</td>\n",
       "      <td>18.0</td>\n",
       "      <td>0.30</td>\n",
       "      <td>0.74</td>\n",
       "      <td>65</td>\n",
       "      <td>2</td>\n",
       "      <td>189</td>\n",
       "      <td>149</td>\n",
       "      <td>132</td>\n",
       "    </tr>\n",
       "  </tbody>\n",
       "</table>\n",
       "</div>"
      ],
      "text/plain": [
       "        brand brand_short product product_short              hex     H     S  \\\n",
       "0  Maybelline          mb  Fit Me           fmf  (243, 207, 179)  26.0  0.26   \n",
       "1  Maybelline          mb  Fit Me           fmf  (255, 227, 194)  32.0  0.24   \n",
       "2  Maybelline          mb  Fit Me           fmf  (255, 224, 205)  23.0  0.20   \n",
       "3  Maybelline          mb  Fit Me           fmf  (255, 211, 190)  19.0  0.25   \n",
       "4  Maybelline          mb  Fit Me           fmf  (189, 149, 132)  18.0  0.30   \n",
       "\n",
       "      V   L  group  red  green  blue  \n",
       "0  0.95  86      2  243    207   179  \n",
       "1  1.00  92      2  255    227   194  \n",
       "2  1.00  91      2  255    224   205  \n",
       "3  1.00  88      2  255    211   190  \n",
       "4  0.74  65      2  189    149   132  "
      ]
     },
     "execution_count": 83,
     "metadata": {},
     "output_type": "execute_result"
    }
   ],
   "source": [
    "df.to_csv('../Data/shades_updated.csv', index=False)\n",
    "path = '../Data/shades_updated.csv'\n",
    "test = pd.read_csv(path)\n",
    "test.head()"
   ]
  },
  {
   "cell_type": "code",
   "execution_count": null,
   "id": "other-reservoir",
   "metadata": {},
   "outputs": [],
   "source": []
  }
 ],
 "metadata": {
  "kernelspec": {
   "display_name": "Python 3",
   "language": "python",
   "name": "python3"
  },
  "language_info": {
   "codemirror_mode": {
    "name": "ipython",
    "version": 3
   },
   "file_extension": ".py",
   "mimetype": "text/x-python",
   "name": "python",
   "nbconvert_exporter": "python",
   "pygments_lexer": "ipython3",
   "version": "3.8.5"
  }
 },
 "nbformat": 4,
 "nbformat_minor": 5
}
